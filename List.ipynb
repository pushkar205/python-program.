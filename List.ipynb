{
  "nbformat": 4,
  "nbformat_minor": 5,
  "metadata": {
    "kernelspec": {
      "display_name": "Python 3",
      "language": "python",
      "name": "python3"
    },
    "language_info": {
      "codemirror_mode": {
        "name": "ipython",
        "version": 3
      },
      "file_extension": ".py",
      "mimetype": "text/x-python",
      "name": "python",
      "nbconvert_exporter": "python",
      "pygments_lexer": "ipython3",
      "version": "3.8.8"
    },
    "colab": {
      "name": "List.ipynb",
      "provenance": [],
      "include_colab_link": true
    }
  },
  "cells": [
    {
      "cell_type": "markdown",
      "metadata": {
        "id": "view-in-github",
        "colab_type": "text"
      },
      "source": [
        "<a href=\"https://colab.research.google.com/github/pushkar205/python-program./blob/master/List.ipynb\" target=\"_parent\"><img src=\"https://colab.research.google.com/assets/colab-badge.svg\" alt=\"Open In Colab\"/></a>"
      ]
    },
    {
      "cell_type": "code",
      "metadata": {
        "id": "a16eb709",
        "outputId": "5a2bafb3-396e-4a4f-9ee9-61fdb04a368a"
      },
      "source": [
        "list1 = ['physics', 'chemistry', 1997, 2000];\n",
        "list2 = [1, 2, 3, 4, 5, 6, 7 ];\n",
        "print (\"list1[0]: \", list1[2])\n",
        "print (\"list2[1:5]: \", list2[1:3])"
      ],
      "id": "a16eb709",
      "execution_count": null,
      "outputs": [
        {
          "name": "stdout",
          "output_type": "stream",
          "text": [
            "list1[0]:  1997\n",
            "list2[1:5]:  [2, 3]\n"
          ]
        }
      ]
    },
    {
      "cell_type": "code",
      "metadata": {
        "id": "ba390b9a",
        "outputId": "3d3d72a5-24e9-4519-a77a-03d073204731"
      },
      "source": [
        "list = ['physics', 'chemistry', 1997, 2000];\n",
        "print (\"Value available at index 2 : \")\n",
        "print (list[2])\n",
        "list[2] = 999999;\n",
        "print (\"New value available at index 2 : \")\n",
        "print (list[2])"
      ],
      "id": "ba390b9a",
      "execution_count": null,
      "outputs": [
        {
          "name": "stdout",
          "output_type": "stream",
          "text": [
            "Value available at index 2 : \n",
            "1997\n",
            "New value available at index 2 : \n",
            "999999\n"
          ]
        }
      ]
    },
    {
      "cell_type": "code",
      "metadata": {
        "id": "6ec3d58a",
        "outputId": "11213e4c-b2af-412d-dcdc-ae76da57834b"
      },
      "source": [
        "list1 = ['physics', 'chemistry', 1997, 2000];\n",
        "print (list1)\n",
        "del (list1[2]);\n",
        "print (\"After deleting value at index 2 :\")\n",
        "print (list1)"
      ],
      "id": "6ec3d58a",
      "execution_count": null,
      "outputs": [
        {
          "name": "stdout",
          "output_type": "stream",
          "text": [
            "['physics', 'chemistry', 1997, 2000]\n",
            "After deleting value at index 2 :\n",
            "['physics', 'chemistry', 2000]\n"
          ]
        }
      ]
    },
    {
      "cell_type": "code",
      "metadata": {
        "id": "3ccf5446",
        "outputId": "c06bd03e-57a5-4bab-9125-927a677c5841"
      },
      "source": [
        "list1, list2 = [123, 'xyz', 'zara'], [456, 'abc']\n",
        "print (\"First list length : \", len(list1))\n",
        "print (\"Second list length : \", len(list2))"
      ],
      "id": "3ccf5446",
      "execution_count": null,
      "outputs": [
        {
          "name": "stdout",
          "output_type": "stream",
          "text": [
            "First list length :  3\n",
            "Second list length :  2\n"
          ]
        }
      ]
    },
    {
      "cell_type": "code",
      "metadata": {
        "id": "925a2fcc",
        "outputId": "f80b2b00-6e56-4b02-ec98-78c6b1271ad0"
      },
      "source": [
        "aList = [123, 'xyz', 'zara', 'abc'];\n",
        "aList.append( 2009 );\n",
        "print (\"Updated List : \", aList)"
      ],
      "id": "925a2fcc",
      "execution_count": null,
      "outputs": [
        {
          "name": "stdout",
          "output_type": "stream",
          "text": [
            "Updated List :  [123, 'xyz', 'zara', 'abc', 2009]\n"
          ]
        }
      ]
    },
    {
      "cell_type": "code",
      "metadata": {
        "id": "adda2a18",
        "outputId": "bd202092-48fd-434f-8dc3-6f82cd12d5e3"
      },
      "source": [
        "aList = [123, 'xyz', 'xyz', 'abc', 123];\n",
        "print (\"Count for xyz : \", aList.count('xyz'))\n",
        "print (\"Count for zara : \", aList.count('zara'))"
      ],
      "id": "adda2a18",
      "execution_count": null,
      "outputs": [
        {
          "name": "stdout",
          "output_type": "stream",
          "text": [
            "Count for xyz :  2\n",
            "Count for zara :  0\n"
          ]
        }
      ]
    },
    {
      "cell_type": "code",
      "metadata": {
        "id": "fd2b4e87",
        "outputId": "88f79178-3eef-43f5-813b-87c4092783a4"
      },
      "source": [
        "aList = [123, 'xyz', 'zara', 'abc', 123];\n",
        "bList = [2009, 'shabnam'];\n",
        "aList.extend(bList)\n",
        "print (\"Extended List : \", aList)"
      ],
      "id": "fd2b4e87",
      "execution_count": null,
      "outputs": [
        {
          "name": "stdout",
          "output_type": "stream",
          "text": [
            "Extended List :  [123, 'xyz', 'zara', 'abc', 123, 2009, 'shabnam']\n"
          ]
        }
      ]
    },
    {
      "cell_type": "code",
      "metadata": {
        "id": "ce3eff72",
        "outputId": "b6349c2c-7b9f-43ce-978d-c0487851cb29"
      },
      "source": [
        "aList = [123, 'xyz', 'zara', 'abc', 'zara'];\n",
        "print (\"Index for xyz : \", aList.index( 'xyz' ) )\n",
        "print (\"Index for zara : \", aList.index( 'zara' ) )"
      ],
      "id": "ce3eff72",
      "execution_count": null,
      "outputs": [
        {
          "name": "stdout",
          "output_type": "stream",
          "text": [
            "Index for xyz :  1\n",
            "Index for zara :  2\n"
          ]
        }
      ]
    },
    {
      "cell_type": "code",
      "metadata": {
        "id": "9280e780",
        "outputId": "213f3a8c-c664-4a6f-b60e-ccefccc40807"
      },
      "source": [
        "aList = [123, 'xyz', 'zara', 'abc']\n",
        "aList.insert( 3, 2009)\n",
        "print (\"Final List : \", aList)"
      ],
      "id": "9280e780",
      "execution_count": null,
      "outputs": [
        {
          "name": "stdout",
          "output_type": "stream",
          "text": [
            "Final List :  [123, 'xyz', 'zara', 2009, 'abc']\n"
          ]
        }
      ]
    },
    {
      "cell_type": "code",
      "metadata": {
        "id": "badb489a",
        "outputId": "28e7b34b-4778-4324-d3e6-799d1fe61c7e"
      },
      "source": [
        "aList = [123, 'xyz', 'zara', 'abc'];\n",
        "\n",
        "print(aList)\n",
        "\n",
        "print (\"List after popping last element : \", aList.pop())\n",
        "\n",
        "print(aList)\n",
        "\n",
        "print (\"List after popping element from mentioned index: \", aList.pop(2))\n",
        "\n",
        "print(aList)\n",
        "\n",
        "aList.insert(3, 2009)\n",
        "\n",
        "print(aList)"
      ],
      "id": "badb489a",
      "execution_count": null,
      "outputs": [
        {
          "name": "stdout",
          "output_type": "stream",
          "text": [
            "[123, 'xyz', 'zara', 'abc']\n",
            "List after popping last element :  abc\n",
            "[123, 'xyz', 'zara']\n",
            "List after popping element from mentioned index:  zara\n",
            "[123, 'xyz']\n",
            "[123, 'xyz', 2009]\n"
          ]
        }
      ]
    },
    {
      "cell_type": "code",
      "metadata": {
        "id": "1787188d",
        "outputId": "ea7b50b3-07fc-4d1d-edc3-d9998ffe37df"
      },
      "source": [
        "aList = [123, 'xyz', 'zara', 'abc', 'xyz'];\n",
        "aList.remove('xyz');\n",
        "print (\"List : \", aList)\n",
        "aList.remove('abc');\n",
        "print (\"List : \", aList)"
      ],
      "id": "1787188d",
      "execution_count": null,
      "outputs": [
        {
          "name": "stdout",
          "output_type": "stream",
          "text": [
            "List :  [123, 'zara', 'abc', 'xyz']\n",
            "List :  [123, 'zara', 'xyz']\n"
          ]
        }
      ]
    },
    {
      "cell_type": "code",
      "metadata": {
        "id": "b2c17fb5",
        "outputId": "c5c42614-b72b-4770-ea29-b31ae5b3d9cc"
      },
      "source": [
        "aList = ['shabnam', 'xyz', 'zara', 'abc', 'nive'];\n",
        "aList.reverse();\n",
        "print (\"List : \", aList)"
      ],
      "id": "b2c17fb5",
      "execution_count": null,
      "outputs": [
        {
          "name": "stdout",
          "output_type": "stream",
          "text": [
            "List :  ['nive', 'abc', 'zara', 'xyz', 'shabnam']\n"
          ]
        }
      ]
    },
    {
      "cell_type": "code",
      "metadata": {
        "id": "2ef2db47",
        "outputId": "34464977-7659-4f9d-d05d-7619a0075c32"
      },
      "source": [
        "aList = ['naveen', 'shabnam', 'sonia', 'ali', 'nive'];\n",
        "aList.sort();\n",
        "print (\"List : \", aList)"
      ],
      "id": "2ef2db47",
      "execution_count": null,
      "outputs": [
        {
          "name": "stdout",
          "output_type": "stream",
          "text": [
            "List :  ['ali', 'naveen', 'nive', 'shabnam', 'sonia']\n"
          ]
        }
      ]
    },
    {
      "cell_type": "code",
      "metadata": {
        "id": "bfa58dfa",
        "outputId": "193f620e-9417-41fb-a418-33128cc3b5d0"
      },
      "source": [
        "aList = [123, 'xyz', 'zara', 'abc', 'xyz'];\n",
        "aList.sort();\n",
        "print (\"List : \", aList)"
      ],
      "id": "bfa58dfa",
      "execution_count": null,
      "outputs": [
        {
          "ename": "TypeError",
          "evalue": "'<' not supported between instances of 'str' and 'int'",
          "output_type": "error",
          "traceback": [
            "\u001b[1;31m---------------------------------------------------------------------------\u001b[0m",
            "\u001b[1;31mTypeError\u001b[0m                                 Traceback (most recent call last)",
            "\u001b[1;32m<ipython-input-16-d16445a53ada>\u001b[0m in \u001b[0;36m<module>\u001b[1;34m\u001b[0m\n\u001b[0;32m      1\u001b[0m \u001b[0maList\u001b[0m \u001b[1;33m=\u001b[0m \u001b[1;33m[\u001b[0m\u001b[1;36m123\u001b[0m\u001b[1;33m,\u001b[0m \u001b[1;34m'xyz'\u001b[0m\u001b[1;33m,\u001b[0m \u001b[1;34m'zara'\u001b[0m\u001b[1;33m,\u001b[0m \u001b[1;34m'abc'\u001b[0m\u001b[1;33m,\u001b[0m \u001b[1;34m'xyz'\u001b[0m\u001b[1;33m]\u001b[0m\u001b[1;33m;\u001b[0m\u001b[1;33m\u001b[0m\u001b[1;33m\u001b[0m\u001b[0m\n\u001b[1;32m----> 2\u001b[1;33m \u001b[0maList\u001b[0m\u001b[1;33m.\u001b[0m\u001b[0msort\u001b[0m\u001b[1;33m(\u001b[0m\u001b[1;33m)\u001b[0m\u001b[1;33m;\u001b[0m\u001b[1;33m\u001b[0m\u001b[1;33m\u001b[0m\u001b[0m\n\u001b[0m\u001b[0;32m      3\u001b[0m \u001b[0mprint\u001b[0m \u001b[1;33m(\u001b[0m\u001b[1;34m\"List : \"\u001b[0m\u001b[1;33m,\u001b[0m \u001b[0maList\u001b[0m\u001b[1;33m)\u001b[0m\u001b[1;33m\u001b[0m\u001b[1;33m\u001b[0m\u001b[0m\n",
            "\u001b[1;31mTypeError\u001b[0m: '<' not supported between instances of 'str' and 'int'"
          ]
        }
      ]
    },
    {
      "cell_type": "code",
      "metadata": {
        "id": "8a0c479f"
      },
      "source": [
        ""
      ],
      "id": "8a0c479f",
      "execution_count": null,
      "outputs": []
    }
  ]
}